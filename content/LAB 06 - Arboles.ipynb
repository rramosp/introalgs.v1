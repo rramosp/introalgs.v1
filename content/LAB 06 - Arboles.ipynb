{
 "cells": [
  {
   "cell_type": "code",
   "execution_count": 1,
   "metadata": {},
   "outputs": [],
   "source": [
    "!wget --no-cache -O init.py -q https://raw.githubusercontent.com/rramosp/20192.L3/master/init.py\n",
    "import init; init.init(force_download=False); init.get_weblink()"
   ]
  },
  {
   "cell_type": "code",
   "execution_count": 28,
   "metadata": {
    "scrolled": true
   },
   "outputs": [],
   "source": [
    "import init\n",
    "from local.lib.rlxmoocapi import submit, session\n",
    "import inspect\n",
    "student = session.Session(init.endpoint).login( course_id=init.course_id, \n",
    "                                                session_id=\"UDEA\", \n",
    "                                                lab_id=\"lab_06\" )"
   ]
  },
  {
   "cell_type": "markdown",
   "metadata": {},
   "source": [
    "# LAB 06 - Árboles\n",
    "\n",
    "### Heapsort\n",
    "\n",
    "En este taller vamos a implementar el algoritmo de ordenación llamado Heapsort. Consulta [Heapsort en Wikipedia](https://en.wikipedia.org/wiki/Heapsort). Es un algoritmo que, dado un vector:\n",
    "\n",
    "- Lo interpreta como un árbol binario\n",
    "- **Fase 1**: Lo convierte en un **Heap**, es decir, un árbol binario en el que cualquier padre tiene un valor mayor que sus hijos. Esto garantiza que la raíz sea el nodo con mayor valor.\n",
    "- **Fase 2**: Ordena el **Heap** de forma que, sucesivamente, va pasando la raíz al final del árbol\n",
    "\n",
    "Usaremos como base la clase de las notas"
   ]
  },
  {
   "cell_type": "markdown",
   "metadata": {},
   "source": [
    "### Ejercicio 1\n",
    "Implementa el método `shift_down` para que descienda cualquier elemento hasta un punto en el que sus dos hijos son menores, sin pasarse de la posición `end`.\n",
    "\n",
    "Recuerda que:\n",
    "\n",
    "- `sefl.v` es un vector que almacena todos los elementos del array en un orden predeterminado.\n",
    "- `self.get_children_positions` te da en qué lugar de ese vector están almacenados los hijos de un cierto nodo.\n",
    "- `start` es la posición del nodo que queremos desplazar.\n",
    "- `end` es la posición más alta en la que se puede desplazar el nodo.\n",
    "\n",
    "Sugerencia de pseudo código:\n",
    "\n",
    "    1. pos_nodo = start\n",
    "    2. mientras pos_nodo tenga hijos y pos_nodo<=end\n",
    "    3.    intercambiar el valor del nodo por el mayor de los hijos que no esté más allá de end, si es que alguno de los hijos es mayor.\n",
    "    4.    pos_nodo = hijo intercambiado\n",
    "\n",
    "ejemplo de ejecución:\n",
    "\n",
    "    \n",
    "    v = [5,9,4,1,6,2,8,3]\n",
    "    print VBinTree1(v)\n",
    "    print VBinTree1(v).shift_down(0)\n",
    "    print VBinTree1(v).shift_down(1)\n",
    "    print VBinTree1(v).shift_down(3)\n",
    "    \n",
    "salida esperada:\n",
    "\n",
    "    5\n",
    "      9\n",
    "        1\n",
    "          3\n",
    "        6\n",
    "      4\n",
    "        2\n",
    "        8\n",
    "\n",
    "    9\n",
    "      6\n",
    "        1\n",
    "          3\n",
    "        5\n",
    "      4\n",
    "        2\n",
    "        8\n",
    "\n",
    "    5\n",
    "      9\n",
    "        1\n",
    "          3\n",
    "        6\n",
    "      4\n",
    "        2\n",
    "        8\n",
    "\n",
    "    5\n",
    "      9\n",
    "        3\n",
    "          1\n",
    "        6\n",
    "      4\n",
    "        2\n",
    "        8"
   ]
  },
  {
   "cell_type": "code",
   "execution_count": 9,
   "metadata": {},
   "outputs": [],
   "source": [
    "def VBinTree1(v=None, **kwargs):\n",
    "    \n",
    "    import numpy as np\n",
    "    \n",
    "    class VBinTree(object):\n",
    "    \n",
    "        def __init__(self, v=v,**kwargs):\n",
    "            import numpy as np\n",
    "            self.v = np.r_[[i for i in v]] # copy\n",
    "\n",
    "        def get_height(self):\n",
    "            i,c=0,0\n",
    "            while c<len(self.v):\n",
    "                c += 2**i\n",
    "                i += 1\n",
    "            return i-1\n",
    "\n",
    "        def get_level(self, i):\n",
    "            n = 0\n",
    "            while sum([2**j for j in range(n)])<=i:\n",
    "                n+=1\n",
    "            return n-1\n",
    "\n",
    "        def get_children_positions(self, i):\n",
    "            return (2*i+1 if 2*i+1<len(self.v) else None,\\\n",
    "                    2*i+2 if 2*i+2<len(self.v) else None)\n",
    "\n",
    "        def get_parent_position(self, i):\n",
    "            assert type(i)==int and i>=0\n",
    "            return (i-1)/2 if i!=0 else None\n",
    "\n",
    "        def get_sibling_position(self, i):\n",
    "            if i==0:\n",
    "                return None\n",
    "            return [k for k in self.get_children_positions(self.get_parent_position(i)) if k!=i][0]\n",
    "\n",
    "\n",
    "        def to_indented_string(self, i, level):\n",
    "            c = self.get_children_positions(i)\n",
    "            s = (\" \"*2*level + str(self.v[i]) + \"\\n\") if self.v[i] is not None else \"\"\n",
    "            s += self.to_indented_string(c[0],level+1) if c[0] is not None else \"\"\n",
    "            s += self.to_indented_string(c[1],level+1) if c[1] is not None else \"\"\n",
    "            return s\n",
    "\n",
    "        def __repr__(self):\n",
    "            return self.to_indented_string(0,0)\n",
    "        \n",
    "        \n",
    "    class VBinTree1_class(VBinTree):\n",
    "\n",
    "        def shift_down(self, start, end=None):\n",
    "            \n",
    "            <... TU CODIGO AQUI ...>\n",
    "\n",
    "            return self\n",
    "        \n",
    "    return VBinTree1_class(**kwargs)"
   ]
  },
  {
   "cell_type": "markdown",
   "metadata": {},
   "source": [
    "prueba los siguientes valores de i:\n",
    "- 0 (==5, el nodo root), fíjate hasta donde se mueve\n",
    "- 1 (==9, no se mueve)\n",
    "- 3 (==1, se intercambia con el 3)"
   ]
  },
  {
   "cell_type": "code",
   "execution_count": 10,
   "metadata": {},
   "outputs": [],
   "source": [
    "v = [5,9,4,1,6,2,8,3]\n",
    "b = VBinTree1(v)\n",
    "print(b)\n",
    "i=1\n",
    "print(\"shifting down element\",i,\"whose value is\", b.v[i])\n",
    "b.shift_down(i)\n",
    "print(b)"
   ]
  },
  {
   "cell_type": "markdown",
   "metadata": {},
   "source": [
    "#### registra tu solución en línea"
   ]
  },
  {
   "cell_type": "code",
   "execution_count": 11,
   "metadata": {},
   "outputs": [],
   "source": [
    "student.submit_task(globals(), task_id=\"task_01\");"
   ]
  },
  {
   "cell_type": "code",
   "execution_count": null,
   "metadata": {},
   "outputs": [],
   "source": []
  },
  {
   "cell_type": "code",
   "execution_count": null,
   "metadata": {},
   "outputs": [],
   "source": []
  },
  {
   "cell_type": "markdown",
   "metadata": {},
   "source": [
    "## Ejercicio 2\n",
    "\n",
    "tendremos que hacer un recorrido desde el último nodo que sea padre en el árbol, hasta el primero, llamando al método del ejercicio anterior.\n",
    "\n",
    "para ello, implementaremos primero un método `get_past_parent_position` que, dado un árbol, encuentre la posición del último padre en el vector (que puede tener uno o dos hijos), pero no ninguno."
   ]
  },
  {
   "cell_type": "code",
   "execution_count": 98,
   "metadata": {},
   "outputs": [],
   "source": [
    "def VBinTree2(v=None,**kwargs):\n",
    "    import numpy as np\n",
    "    \n",
    "    class VBinTree(object):\n",
    "    \n",
    "        def __init__(self, v=v,**kwargs):\n",
    "            import numpy as np\n",
    "            self.v = np.r_[[i for i in v]] # copy\n",
    "\n",
    "        def get_height(self):\n",
    "            i,c=0,0\n",
    "            while c<len(self.v):\n",
    "                c += 2**i\n",
    "                i += 1\n",
    "            return i-1\n",
    "\n",
    "        def get_level(self, i):\n",
    "            n = 0\n",
    "            while sum([2**j for j in range(n)])<=i:\n",
    "                n+=1\n",
    "            return n-1\n",
    "\n",
    "        def get_children_positions(self, i):\n",
    "            return (2*i+1 if 2*i+1<len(self.v) else None,\\\n",
    "                    2*i+2 if 2*i+2<len(self.v) else None)\n",
    "\n",
    "        def get_parent_position(self, i):\n",
    "            assert type(i)==int and i>=0\n",
    "            return (i-1)/2 if i!=0 else None\n",
    "\n",
    "        def get_sibling_position(self, i):\n",
    "            if i==0:\n",
    "                return None\n",
    "            return [k for k in self.get_children_positions(self.get_parent_position(i)) if k!=i][0]\n",
    "\n",
    "\n",
    "        def to_indented_string(self, i, level):\n",
    "            c = self.get_children_positions(i)\n",
    "            s = (\" \"*2*level + str(self.v[i]) + \"\\n\") if self.v[i] is not None else \"\"\n",
    "            s += self.to_indented_string(c[0],level+1) if c[0] is not None else \"\"\n",
    "            s += self.to_indented_string(c[1],level+1) if c[1] is not None else \"\"\n",
    "            return s\n",
    "\n",
    "        def __repr__(self):\n",
    "            return self.to_indented_string(0,0)\n",
    "        \n",
    "    class VBinTree2_class(VBinTree):\n",
    "\n",
    "        def get_last_parent_position(self):\n",
    "            <... TU CODIGO AQUI ...>\n",
    "            \n",
    "            \n",
    "    return VBinTree2_class(**kwargs)"
   ]
  },
  {
   "cell_type": "markdown",
   "metadata": {},
   "source": [
    "**ejemplo de ejecución**: para los siguientes dos árboles, la posición del último padre ha de ser 4 y 2 respectivamente"
   ]
  },
  {
   "cell_type": "code",
   "execution_count": 99,
   "metadata": {},
   "outputs": [],
   "source": [
    "for v in [[5,9,0,1,6,2,8,3,4,5], [5,9,0,1,6,2,8]]:\n",
    "    b = VBinTree2(v)\n",
    "    print(\"\\n\\ntree:\")\n",
    "    print(b)\n",
    "    p = b.get_last_parent_position()\n",
    "    print(\"last parent position\",p, \"content\", b.v[p])"
   ]
  },
  {
   "cell_type": "markdown",
   "metadata": {},
   "source": [
    "#### registra tu solución en línea\n"
   ]
  },
  {
   "cell_type": "code",
   "execution_count": 100,
   "metadata": {},
   "outputs": [],
   "source": [
    "student.submit_task(globals(), task_id=\"task_02\");"
   ]
  },
  {
   "cell_type": "markdown",
   "metadata": {},
   "source": [
    "## Ejercicio 3\n",
    "\n",
    "complela el método `make_heap` con un bucle desde el último padre hasta el primer elemento del árbol (su vector) realizando el `shift_down` de cada elemento. Con esto conseguimos que nuestra lista sea un `Heap`. \n"
   ]
  },
  {
   "cell_type": "code",
   "execution_count": 102,
   "metadata": {},
   "outputs": [],
   "source": [
    "def VBinTree3(v=None,**kwargs):\n",
    "    \n",
    "    import numpy as np\n",
    "    \n",
    "    class VBinTree(object):\n",
    "    \n",
    "        def __init__(self, v=v,**kwargs):\n",
    "            import numpy as np\n",
    "            self.v = np.r_[[i for i in v]] # copy\n",
    "\n",
    "        def get_height(self):\n",
    "            i,c=0,0\n",
    "            while c<len(self.v):\n",
    "                c += 2**i\n",
    "                i += 1\n",
    "            return i-1\n",
    "\n",
    "        def get_level(self, i):\n",
    "            n = 0\n",
    "            while sum([2**j for j in range(n)])<=i:\n",
    "                n+=1\n",
    "            return n-1\n",
    "\n",
    "        def get_children_positions(self, i):\n",
    "            return (2*i+1 if 2*i+1<len(self.v) else None,\\\n",
    "                    2*i+2 if 2*i+2<len(self.v) else None)\n",
    "\n",
    "        def get_parent_position(self, i):\n",
    "            assert type(i)==int and i>=0\n",
    "            return (i-1)/2 if i!=0 else None\n",
    "\n",
    "        def get_sibling_position(self, i):\n",
    "            if i==0:\n",
    "                return None\n",
    "            return [k for k in self.get_children_positions(self.get_parent_position(i)) if k!=i][0]\n",
    "\n",
    "\n",
    "        def to_indented_string(self, i, level):\n",
    "            c = self.get_children_positions(i)\n",
    "            s = (\" \"*2*level + str(self.v[i]) + \"\\n\") if self.v[i] is not None else \"\"\n",
    "            s += self.to_indented_string(c[0],level+1) if c[0] is not None else \"\"\n",
    "            s += self.to_indented_string(c[1],level+1) if c[1] is not None else \"\"\n",
    "            return s\n",
    "\n",
    "        def __repr__(self):\n",
    "            return self.to_indented_string(0,0)\n",
    "    \n",
    "    class VBinTree3_class(VBinTree):\n",
    "\n",
    "        def shift_down(self, start, end=None):\n",
    "            <... TU CODIGO AQUI ...>\n",
    "\n",
    "            return self\n",
    "\n",
    "        def get_last_parent_position(self):\n",
    "            <... TU CODIGO AQUI ...>\n",
    "\n",
    "        def make_heap(self):\n",
    "            <... TU CODIGO AQUI ...>\n",
    "                \n",
    "                \n",
    "    return VBinTree3_class(**kwargs)"
   ]
  },
  {
   "cell_type": "code",
   "execution_count": 104,
   "metadata": {},
   "outputs": [],
   "source": [
    "import numpy as np\n",
    "v = list(np.random.permutation(100)[:10])\n",
    "#v = [2,48,65,95,66,42,30,32]\n",
    "b = VBinTree3(v)\n",
    "print(\"-- original tree\")\n",
    "print(b)\n",
    "print(\"-- constructed heap\")\n",
    "b.make_heap()\n",
    "print()\n",
    "print(b)"
   ]
  },
  {
   "cell_type": "markdown",
   "metadata": {},
   "source": [
    "#### registra tu solución en línea"
   ]
  },
  {
   "cell_type": "code",
   "execution_count": 110,
   "metadata": {},
   "outputs": [],
   "source": [
    "student.submit_task(globals(), task_id=\"task_03\");"
   ]
  },
  {
   "cell_type": "markdown",
   "metadata": {},
   "source": [
    "## Ejercicio 4\n",
    "\n",
    "Finalmente, sobre el árbol resultado del ejercicio anterior, en un bucle desde el último nodo hasta el primero, intercambiamos la raíz con dicho nodo.\n",
    "\n",
    "**Pseudocódigo sugerido**:\n",
    "\n",
    "    1. desde nodo=último nodo hasta el primero\n",
    "    2.    intercambia el valor de la raíz del árbol con nodo\n",
    "    3.    haz un shift_down de la raíz del árbol hasta nodo-1\n",
    "\n"
   ]
  },
  {
   "cell_type": "code",
   "execution_count": 141,
   "metadata": {},
   "outputs": [],
   "source": [
    "def VBinTree4(v=None,**kwargs):\n",
    "    import numpy as np\n",
    "    \n",
    "    class VBinTree(object):\n",
    "    \n",
    "        def __init__(self, v=v,**kwargs):\n",
    "            import numpy as np\n",
    "            self.v = np.r_[[i for i in v]] # copy\n",
    "\n",
    "        def get_height(self):\n",
    "            i,c=0,0\n",
    "            while c<len(self.v):\n",
    "                c += 2**i\n",
    "                i += 1\n",
    "            return i-1\n",
    "\n",
    "        def get_level(self, i):\n",
    "            n = 0\n",
    "            while sum([2**j for j in range(n)])<=i:\n",
    "                n+=1\n",
    "            return n-1\n",
    "\n",
    "        def get_children_positions(self, i):\n",
    "            return (2*i+1 if 2*i+1<len(self.v) else None,\\\n",
    "                    2*i+2 if 2*i+2<len(self.v) else None)\n",
    "\n",
    "        def get_parent_position(self, i):\n",
    "            assert type(i)==int and i>=0\n",
    "            return (i-1)/2 if i!=0 else None\n",
    "\n",
    "        def get_sibling_position(self, i):\n",
    "            if i==0:\n",
    "                return None\n",
    "            return [k for k in self.get_children_positions(self.get_parent_position(i)) if k!=i][0]\n",
    "\n",
    "\n",
    "        def to_indented_string(self, i, level):\n",
    "            c = self.get_children_positions(i)\n",
    "            s = (\" \"*2*level + str(self.v[i]) + \"\\n\") if self.v[i] is not None else \"\"\n",
    "            s += self.to_indented_string(c[0],level+1) if c[0] is not None else \"\"\n",
    "            s += self.to_indented_string(c[1],level+1) if c[1] is not None else \"\"\n",
    "            return s\n",
    "\n",
    "        def __repr__(self):\n",
    "            return self.to_indented_string(0,0)\n",
    "        \n",
    "        \n",
    "    class VBinTree4_class(VBinTree):\n",
    "\n",
    "        def shift_down(self, start, end=None):\n",
    "            <... TU CODIGO AQUI ...>\n",
    "\n",
    "            return self\n",
    "\n",
    "        def get_last_parent_position(self):\n",
    "            <... TU CODIGO AQUI ...>\n",
    "\n",
    "        def make_heap(self):\n",
    "            <... TU CODIGO AQUI ...>\n",
    "\n",
    "        def sort(self):\n",
    "            <... TU CODIGO AQUI ...>\n",
    "            \n",
    "    return VBinTree4_class(**kwargs)"
   ]
  },
  {
   "cell_type": "markdown",
   "metadata": {},
   "source": [
    "comprueba tu código"
   ]
  },
  {
   "cell_type": "code",
   "execution_count": 142,
   "metadata": {},
   "outputs": [],
   "source": [
    "import numpy as np\n",
    "\n",
    "v = list(np.random.permutation(100)[:15])\n",
    "v = [57,58,73,48,62,75,88,15,29,40,53,61,56,8,1,32,51]\n",
    "b = VBinTree4(v)\n",
    "print(\"-- original tree\")\n",
    "print(b.v)\n",
    "\n",
    "b.sort()\n",
    "print(\"-- sorted tree\")\n",
    "print(b.v)"
   ]
  },
  {
   "cell_type": "markdown",
   "metadata": {},
   "source": [
    "#### registra tu solución en línea"
   ]
  },
  {
   "cell_type": "code",
   "execution_count": 40,
   "metadata": {},
   "outputs": [],
   "source": [
    "student.submit_task(globals(), task_id=\"task_04\");"
   ]
  },
  {
   "cell_type": "markdown",
   "metadata": {},
   "source": [
    "# Experimentos"
   ]
  },
  {
   "cell_type": "markdown",
   "metadata": {},
   "source": [
    "observa el siguiente **TEST UNITARIO**. Generamos vectores aleatorios, los ordenamos con el algoritmo recién creado y verificamos que el resultado está en orden."
   ]
  },
  {
   "cell_type": "code",
   "execution_count": 33,
   "metadata": {},
   "outputs": [],
   "source": [
    "import numpy as np\n",
    "\n",
    "r=[]\n",
    "n=1000\n",
    "lengths = []\n",
    "for i in range(n):\n",
    "    v = list(np.random.permutation(1000)[:np.random.randint(300)])\n",
    "    b = VBinTree4(v)\n",
    "    b.sort()\n",
    "    lengths.append(len(v))\n",
    "    \n",
    "    a=np.r_[b.v]\n",
    "    r.append(np.alltrue(a[1:]-a[:-1]>0))\n"
   ]
  },
  {
   "cell_type": "code",
   "execution_count": 35,
   "metadata": {},
   "outputs": [],
   "source": [
    "print(\"número total de vectores generados:\", n)\n",
    "print(\"número total de vectores ordenados:\", np.sum(r))\n",
    "print(\"avg/std longitud de los vectores:  \", np.mean(lengths), \"+/- %.1f\"%np.std(lengths))"
   ]
  },
  {
   "cell_type": "markdown",
   "metadata": {},
   "source": [
    "### Complejidad computacional\n",
    "\n",
    "Comprobamos experimentalmente que la complejidad computacional es $\\mathcal{O}(n\\log n)$. Fíjate que la notación $\\mathcal{O}$ es un orden de magnitud que es independiente sumas y multiplicaciones por una constante. Para ajustar las mediciones del experimento al ideal de  $\\mathcal{O}(n\\log n)$ tenemos que calcular esa constante. ¿Dónde la calculamos en el código?"
   ]
  },
  {
   "cell_type": "code",
   "execution_count": 36,
   "metadata": {},
   "outputs": [],
   "source": [
    "def heapsort_experiment(n):\n",
    "    \n",
    "    v = list(np.random.permutation(n*5)[:n])\n",
    "    b = VBinTree4(v)\n",
    "    b.sort()\n",
    "    return"
   ]
  },
  {
   "cell_type": "code",
   "execution_count": 37,
   "metadata": {},
   "outputs": [],
   "source": [
    "n_set = np.arange(0,4100,500)[1:]\n",
    "s_times = []\n",
    "for n in n_set:\n",
    "    print (n),\n",
    "    t = %timeit -o -q heapsort_experiment(n)\n",
    "    s_times.append(t.best)"
   ]
  },
  {
   "cell_type": "code",
   "execution_count": 43,
   "metadata": {},
   "outputs": [],
   "source": [
    "import matplotlib.pyplot as plt\n",
    "%matplotlib inline\n",
    "plt.plot(n_set, s_times, label=\"measured\")\n",
    "plt.scatter(n_set, s_times)\n",
    "log = n_set*np.log(n_set)\n",
    "log = log*np.mean(s_times/log)\n",
    "\n",
    "plt.plot(n_set, log, label=\"$\\mathcal{O} (n\\log n)$\")\n",
    "plt.legend()\n",
    "plt.grid()\n",
    "plt.xlabel(\"number of elements\")\n",
    "plt.ylabel(\"time (secs)\");"
   ]
  },
  {
   "cell_type": "markdown",
   "metadata": {},
   "source": [
    "pero fíjate que en el experimento no tenemos la operación de `sort` aislada. Verificamos por tanto que el tiempo de creación de un vector aleatorio es despreciable respecto a nuestro experimento"
   ]
  },
  {
   "cell_type": "code",
   "execution_count": 44,
   "metadata": {},
   "outputs": [],
   "source": [
    "def randomlist_experiment(n):\n",
    "    v = list(np.random.permutation(n*5)[:n])\n",
    "    \n",
    "n_set = np.arange(0,5500,500)[1:]\n",
    "r_times = []\n",
    "for n in n_set:\n",
    "    print (n),\n",
    "    t = %timeit -r 10 -n 10 -o -q randomlist_experiment(n)\n",
    "    r_times.append(t.best)\n",
    "    \n",
    "import matplotlib.pyplot as plt\n",
    "%matplotlib inline\n",
    "plt.plot(n_set, r_times)\n",
    "plt.scatter(n_set, r_times)\n",
    "plt.grid()\n",
    "plt.xlabel(\"number of elements\")\n",
    "plt.ylabel(\"time (secs)\");"
   ]
  },
  {
   "cell_type": "code",
   "execution_count": null,
   "metadata": {},
   "outputs": [],
   "source": []
  },
  {
   "cell_type": "code",
   "execution_count": null,
   "metadata": {},
   "outputs": [],
   "source": []
  },
  {
   "cell_type": "code",
   "execution_count": null,
   "metadata": {},
   "outputs": [],
   "source": []
  }
 ],
 "metadata": {
  "kernelspec": {
   "display_name": "Python 3 (ipykernel)",
   "language": "python",
   "name": "python3"
  },
  "language_info": {
   "codemirror_mode": {
    "name": "ipython",
    "version": 3
   },
   "file_extension": ".py",
   "mimetype": "text/x-python",
   "name": "python",
   "nbconvert_exporter": "python",
   "pygments_lexer": "ipython3",
   "version": "3.10.6"
  },
  "toc": {
   "base_numbering": 1,
   "nav_menu": {},
   "number_sections": true,
   "sideBar": true,
   "skip_h1_title": false,
   "title_cell": "Table of Contents",
   "title_sidebar": "Contents",
   "toc_cell": false,
   "toc_position": {},
   "toc_section_display": true,
   "toc_window_display": false
  }
 },
 "nbformat": 4,
 "nbformat_minor": 4
}
