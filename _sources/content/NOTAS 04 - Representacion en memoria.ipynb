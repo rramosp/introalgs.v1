{
 "cells": [
  {
   "cell_type": "markdown",
   "metadata": {},
   "source": [
    "# Representación en memoria\n",
    "\n",
    "## Objetivos del módulo\n",
    "\n",
    "Conocer cómo se representan las estructuras de datos en la memoria de la máquina y las decisiones y compromisos que realizan los distintos lenguajes de progamación.\n",
    "\n",
    "## Preguntas básicas\n",
    "\n",
    "- ¿Cómo se hace corresponder la información de una estructura de datos a memoria de la máquina?\n",
    "- ¿Qué decisiones y compromisos adquieren los distintos lenguajes y entornos de programación?\n",
    "- ¿Cómo afecta esto al rendimiento de nuestros algoritmos?\n",
    "- ¿Qué es una fórmula de direccionamiento?\n",
    "\n",
    "\n",
    "## 1. Memoria y datos\n"
   ]
  },
  {
   "cell_type": "markdown",
   "metadata": {},
   "source": [
    "### Python: gestión de la memoria\n",
    "\n",
    "Python realiza una gestión completa de la memoria, como en otros lenguajes (Java, etc.). No hay punteros y ciertas libererías de Python gestionan el uso de la memoria para sus estructuras. Por ejemplo `numpy` implementa muchas funciones en C y nos las ofrece con la sintaxis limpia de Python. Si usamos `numpy` podemos al menos ver las direcciones de memoria de los arrays.\n",
    "\n",
    "Ejecuta el siguiente código y prueba con distintos tipos de datos en `dtype`: `np.int32`, `np.int64`, `np.float32`, `np.float64`\n"
   ]
  },
  {
   "cell_type": "code",
   "execution_count": 17,
   "metadata": {},
   "outputs": [
    {
     "name": "stdout",
     "output_type": "stream",
     "text": [
      "array                     [1. 2. 3.]\n",
      "tipo de datos             float64\n",
      "memory positino a o a[0]  94072038473760\n",
      "memory position a[1]      94072038473768\n",
      "bytes delta de posiciones 8\n"
     ]
    }
   ],
   "source": [
    "import numpy as np\n",
    "\n",
    "a = np.array([1,2,3], dtype=np.float64)\n",
    "print(\"array                    \", a)\n",
    "print(\"tipo de datos            \", a.dtype)\n",
    "print(\"memory positino a o a[0] \", a.ctypes.data)\n",
    "print(\"memory position a[1]     \", a[1:].ctypes.data)\n",
    "print(\"bytes delta de posiciones\", a[1:].ctypes.data - a.ctypes.data)"
   ]
  },
  {
   "cell_type": "markdown",
   "metadata": {},
   "source": [
    "En general, la función `id` da un identificador único de cualquier objeto de Python, aunque no necesariamente es su posición de memoria (depende de la implementación de tu instalación de Python). Nos sirve para ver si dos variables apuntan al mismo contenido."
   ]
  },
  {
   "cell_type": "code",
   "execution_count": 18,
   "metadata": {},
   "outputs": [
    {
     "name": "stdout",
     "output_type": "stream",
     "text": [
      "<class 'int'> 94072006972480\n",
      "<class 'int'> 94072006972480\n"
     ]
    }
   ],
   "source": [
    "a = 2\n",
    "print(type(a), id(a))\n",
    "b = a\n",
    "print(type(b), id(b))"
   ]
  },
  {
   "cell_type": "markdown",
   "metadata": {},
   "source": [
    "fíjate como un mismo dato puede tener varias _etiquetas_"
   ]
  },
  {
   "cell_type": "code",
   "execution_count": 19,
   "metadata": {},
   "outputs": [
    {
     "name": "stdout",
     "output_type": "stream",
     "text": [
      "140677573928136 [1, 2, 3]\n",
      "140677573928136 [1, 2, 3]\n"
     ]
    }
   ],
   "source": [
    "xx = [1,2,3]\n",
    "print(id(xx), xx)\n",
    "bb = xx\n",
    "print(id(bb), bb)"
   ]
  },
  {
   "cell_type": "code",
   "execution_count": 20,
   "metadata": {},
   "outputs": [
    {
     "ename": "NameError",
     "evalue": "name 'bb' is not defined",
     "output_type": "error",
     "traceback": [
      "\u001b[0;31m---------------------------------------------------------------------------\u001b[0m",
      "\u001b[0;31mNameError\u001b[0m                                 Traceback (most recent call last)",
      "\u001b[0;32m<ipython-input-20-2ef731d4f814>\u001b[0m in \u001b[0;36m<module>\u001b[0;34m\u001b[0m\n\u001b[1;32m      1\u001b[0m \u001b[0;32mdel\u001b[0m\u001b[0;34m(\u001b[0m\u001b[0mbb\u001b[0m\u001b[0;34m)\u001b[0m\u001b[0;34m\u001b[0m\u001b[0;34m\u001b[0m\u001b[0m\n\u001b[0;32m----> 2\u001b[0;31m \u001b[0mprint\u001b[0m\u001b[0;34m(\u001b[0m\u001b[0mid\u001b[0m\u001b[0;34m(\u001b[0m\u001b[0mbb\u001b[0m\u001b[0;34m)\u001b[0m\u001b[0;34m,\u001b[0m \u001b[0mbb\u001b[0m\u001b[0;34m)\u001b[0m\u001b[0;34m\u001b[0m\u001b[0;34m\u001b[0m\u001b[0m\n\u001b[0m",
      "\u001b[0;31mNameError\u001b[0m: name 'bb' is not defined"
     ]
    }
   ],
   "source": [
    "del(bb)\n",
    "print(id(bb), bb)"
   ]
  },
  {
   "cell_type": "code",
   "execution_count": 21,
   "metadata": {},
   "outputs": [
    {
     "name": "stdout",
     "output_type": "stream",
     "text": [
      "140677573928136 [1, 2, 3]\n"
     ]
    }
   ],
   "source": [
    "print(id(xx), xx)"
   ]
  },
  {
   "cell_type": "markdown",
   "metadata": {},
   "source": [
    "fíjate en la siguiente lógica de Python. Reutiliza las cadenas pequeñas aunque explícitamente no hagamos `a=b`, pero no las cadenas largas."
   ]
  },
  {
   "cell_type": "code",
   "execution_count": 22,
   "metadata": {},
   "outputs": [
    {
     "name": "stdout",
     "output_type": "stream",
     "text": [
      "<class 'str'> 140677574459264\n",
      "<class 'str'> 140677574459264\n"
     ]
    }
   ],
   "source": [
    "a = \"hola\"\n",
    "print(type(a), id(a))\n",
    "b = \"hola\"\n",
    "print(type(b), id(b))"
   ]
  },
  {
   "cell_type": "code",
   "execution_count": 23,
   "metadata": {},
   "outputs": [
    {
     "name": "stdout",
     "output_type": "stream",
     "text": [
      "<class 'str'> 140677173882096\n",
      "<class 'str'> 140677173356528\n"
     ]
    }
   ],
   "source": [
    "a = \"hola como estas\"\n",
    "print(type(a), id(a))\n",
    "b = \"hola como estas\"\n",
    "print(type(b), id(b))"
   ]
  },
  {
   "cell_type": "markdown",
   "metadata": {},
   "source": [
    "observa que el concepto de **igualdad** puede ser definido de dos formas:\n",
    "\n",
    "- el contenido referido por una variable es igual al contenido referido por otra variable: **=**\n",
    "- dos variables se refieren a la misma posición de memoria: **is**"
   ]
  },
  {
   "cell_type": "code",
   "execution_count": 24,
   "metadata": {},
   "outputs": [
    {
     "name": "stdout",
     "output_type": "stream",
     "text": [
      "140677173357424\n",
      "140677173354672\n",
      "True False\n"
     ]
    }
   ],
   "source": [
    "a = \"hola que tal\"\n",
    "b = \"hola que tal\"\n",
    "print(id(a))\n",
    "print(id(b))\n",
    "print(a==b, a is b)"
   ]
  },
  {
   "cell_type": "code",
   "execution_count": 25,
   "metadata": {},
   "outputs": [
    {
     "name": "stdout",
     "output_type": "stream",
     "text": [
      "140677173358512\n",
      "140677173358512\n",
      "True True\n"
     ]
    }
   ],
   "source": [
    "a = \"hola que tal\"\n",
    "b = a\n",
    "print(id(a))\n",
    "print(id(b))\n",
    "print(a==b, a is b)"
   ]
  },
  {
   "cell_type": "markdown",
   "metadata": {},
   "source": [
    "observa además la semántica de `a+=...`, que actualiza la propia memoria sin crear nuevos objetos `a=a+...`"
   ]
  },
  {
   "cell_type": "code",
   "execution_count": 26,
   "metadata": {},
   "outputs": [
    {
     "name": "stdout",
     "output_type": "stream",
     "text": [
      "140677174428168 [1, 2, 3]\n",
      "140677174428360 [1, 2, 3, 4]\n",
      "140677174428360 [1, 2, 3, 4, 5]\n"
     ]
    }
   ],
   "source": [
    "a = [1,2,3]\n",
    "print(id(a), a)\n",
    "a = a + [4]\n",
    "print(id(a), a)\n",
    "a += [5]\n",
    "print(id(a), a)"
   ]
  },
  {
   "cell_type": "markdown",
   "metadata": {},
   "source": [
    "Python tiene una semántica fija para el paso de parámetros: **siempre se pasan las referencias a los objetos.**"
   ]
  },
  {
   "cell_type": "code",
   "execution_count": 27,
   "metadata": {},
   "outputs": [],
   "source": [
    "def f(x):\n",
    "    print(id(x), x)\n",
    "    x = 2\n",
    "    print(id(x), x)"
   ]
  },
  {
   "cell_type": "code",
   "execution_count": 28,
   "metadata": {},
   "outputs": [
    {
     "name": "stdout",
     "output_type": "stream",
     "text": [
      "94072006973344 29\n",
      "94072006973344 29\n",
      "94072006972480 2\n",
      "94072006973344 29\n"
     ]
    }
   ],
   "source": [
    "a = 29\n",
    "print(id(a), a)\n",
    "f(a)\n",
    "print(id(a), a)"
   ]
  },
  {
   "cell_type": "markdown",
   "metadata": {},
   "source": [
    "observa cómo el siguiente código se ejecuta en [Python Tutor](http://www.pythontutor.com/visualize.html#code=def%20f%28x%29%3A%0A%20%20%20%20print%20id%28x%29,%20x%0A%20%20%20%20x.append%2832%29%0A%20%20%20%20print%20id%28x%29,%20x%0A%20%20%20%20%0Aa%20%3D%20%5B%22hola%22,%2010,%20%2220%22%5D%0Aprint%20id%28a%29,%20a%0Af%28a%29%0Aprint%20id%28a%29,%20a&cumulative=false&curInstr=0&heapPrimitives=nevernest&mode=display&origin=opt-frontend.js&py=2&rawInputLstJSON=%5B%5D&textReferences=false)"
   ]
  },
  {
   "cell_type": "code",
   "execution_count": 29,
   "metadata": {},
   "outputs": [
    {
     "name": "stdout",
     "output_type": "stream",
     "text": [
      "140677574373960 ['hola', 10, '20']\n",
      "140677574373960 ['hola', 10, '20']\n",
      "140677574373960 ['hola', 10, '20', 32]\n",
      "140677574373960 ['hola', 10, '20', 32]\n"
     ]
    }
   ],
   "source": [
    "def f(x):\n",
    "    print(id(x), x)\n",
    "    x.append(32)\n",
    "    print(id(x), x)\n",
    "    \n",
    "a = [\"hola\", 10, \"20\"]\n",
    "print(id(a), a)\n",
    "f(a)\n",
    "print(id(a), a)"
   ]
  },
  {
   "cell_type": "markdown",
   "metadata": {},
   "source": [
    "## 2. Alineamiento de datos y rendimiento\n",
    "\n",
    "La memoria de un computador es lineal. El lenguaje de programación (compilado o interpretado) es el que la maneja y decide la organización de los datos cuando tenemos estructuras complejas. Es decir, decide cómo **linearizar** cualquier estructura de datos.\n",
    "\n",
    "Pero **físicamente** la manera más eficiente de recorrer la memoria de una máquina también es linealmente, por tanto nuestra aplicación será más o menos eficiente en función de cómo recorra una estructura de datos en relación a cómo se linearizó.\n",
    "\n",
    "Por tanto, **es fundamental entender las decisiones que toma nuestro entorno de programación respecto al almacenaje de estructuras en memoria**. Los siguientes experimentos están diseñados para que te familiarices con esto.\n",
    "\n",
    "Fíjate cómo lineariza `numpy` una matriz 2D en memoria. Prueba con distintos tipos de datos."
   ]
  },
  {
   "cell_type": "code",
   "execution_count": 30,
   "metadata": {},
   "outputs": [
    {
     "data": {
      "text/plain": [
       "array([[98, 68, 19, 14,  1],\n",
       "       [30, 47,  0,  4,  0],\n",
       "       [71, 52, 75, 28,  9]], dtype=int32)"
      ]
     },
     "execution_count": 30,
     "metadata": {},
     "output_type": "execute_result"
    }
   ],
   "source": [
    "a = np.random.randint(100, size=(3,5)).astype(np.int32)\n",
    "a"
   ]
  },
  {
   "cell_type": "code",
   "execution_count": 33,
   "metadata": {},
   "outputs": [
    {
     "name": "stdout",
     "output_type": "stream",
     "text": [
      "memory positions of each element of a\n",
      "[[94072037346320 94072037346324 94072037346328 94072037346332\n",
      "  94072037346336]\n",
      " [94072037346340 94072037346344 94072037346348 94072037346352\n",
      "  94072037346356]\n",
      " [94072037346360 94072037346364 94072037346368 94072037346372\n",
      "  94072037346376]]\n"
     ]
    }
   ],
   "source": [
    "import itertools\n",
    "def get_mempositions(a, relative=False):\n",
    "    m = np.zeros(a.shape, dtype=np.int64)\n",
    "    for ii in itertools.product(*[list(range(i)) for i in a.shape]):\n",
    "        m[ii] = a[tuple([slice(i, None, None) for i in ii])].ctypes.data\n",
    "    return m if not relative else m-np.min(m)\n",
    "print(\"memory positions of each element of a\")\n",
    "print(get_mempositions(a))"
   ]
  },
  {
   "cell_type": "code",
   "execution_count": 34,
   "metadata": {},
   "outputs": [
    {
     "name": "stdout",
     "output_type": "stream",
     "text": [
      "memory positions of each element of a, relative to init\n",
      "[[ 0  4  8 12 16]\n",
      " [20 24 28 32 36]\n",
      " [40 44 48 52 56]]\n"
     ]
    }
   ],
   "source": [
    "print(\"memory positions of each element of a, relative to init\")\n",
    "print(get_mempositions(a, relative=True))"
   ]
  },
  {
   "cell_type": "markdown",
   "metadata": {},
   "source": [
    "Este es un orden en el que se **recorre primero las columnas** y **luego las filas**\n",
    "\n",
    "\n",
    "la fórmula de direccionamiento en este caso es:\n",
    "\n",
    "$$addr(i,j) = k + (i\\times n\\_cols + j)\\times size$$\n",
    "\n",
    "donde\n",
    "- $k$ es la posición de inicio del array\n",
    "- $n\\_cols$ es en número de columnas del array\n",
    "- $size$ es el tamaño en bytes del tipo de dato que almacena el array.\n",
    "- $i,j$ es la $fila$, $columna$ de la cual se quiere obtener la posición en memoria\n",
    "\n",
    "y lo comprobamos"
   ]
  },
  {
   "cell_type": "code",
   "execution_count": 35,
   "metadata": {},
   "outputs": [
    {
     "data": {
      "text/plain": [
       "array([[ 0,  4,  8, 12, 16],\n",
       "       [20, 24, 28, 32, 36],\n",
       "       [40, 44, 48, 52, 56]])"
      ]
     },
     "execution_count": 35,
     "metadata": {},
     "output_type": "execute_result"
    }
   ],
   "source": [
    "m = np.zeros(a.shape, dtype=int)\n",
    "size = a.dtype.itemsize\n",
    "for i in range(a.shape[0]):\n",
    "    for j in range(a.shape[1]):\n",
    "        m[i,j] = (i*a.shape[1] + j)*size\n",
    "m"
   ]
  },
  {
   "cell_type": "markdown",
   "metadata": {},
   "source": [
    "con `numpy` también podemos especificar que queremos el orden inverso. Es decir, recorriendo primero las filas y luego las columnas. Esto es típico de FORTRAN. En cambio en C el orden es por filas como anteriormente."
   ]
  },
  {
   "cell_type": "code",
   "execution_count": 36,
   "metadata": {},
   "outputs": [
    {
     "name": "stdout",
     "output_type": "stream",
     "text": [
      "[[ 0 12 24 36 48]\n",
      " [ 4 16 28 40 52]\n",
      " [ 8 20 32 44 56]]\n"
     ]
    }
   ],
   "source": [
    "a = np.random.randint(100, size=(3,5)).astype(np.int32)\n",
    "a = np.asfortranarray(a)\n",
    "print(get_mempositions(a, relative=True))"
   ]
  },
  {
   "cell_type": "markdown",
   "metadata": {},
   "source": [
    "la fórmula de direccionamiento en este caso es:\n",
    "\n",
    "$$addr(i,j) = k + (i + j\\times n\\_rows)\\times size$$\n",
    "\n",
    "y lo comprobamos"
   ]
  },
  {
   "cell_type": "code",
   "execution_count": 37,
   "metadata": {},
   "outputs": [
    {
     "data": {
      "text/plain": [
       "array([[ 0, 12, 24, 36, 48],\n",
       "       [ 4, 16, 28, 40, 52],\n",
       "       [ 8, 20, 32, 44, 56]])"
      ]
     },
     "execution_count": 37,
     "metadata": {},
     "output_type": "execute_result"
    }
   ],
   "source": [
    "m = np.zeros(a.shape, dtype=int)\n",
    "size = a.dtype.itemsize\n",
    "for i in range(a.shape[0]):\n",
    "    for j in range(a.shape[1]):\n",
    "        m[i,j] = (i + j*a.shape[0])*size\n",
    "m"
   ]
  },
  {
   "cell_type": "markdown",
   "metadata": {},
   "source": [
    "fíjate ahora en el siguiente experimento, en el que recorremos las columnas para sumar"
   ]
  },
  {
   "cell_type": "code",
   "execution_count": 38,
   "metadata": {},
   "outputs": [
    {
     "data": {
      "text/plain": [
       "array([298, 341, 421])"
      ]
     },
     "execution_count": 38,
     "metadata": {},
     "output_type": "execute_result"
    }
   ],
   "source": [
    "a.sum(axis=1)"
   ]
  },
  {
   "cell_type": "markdown",
   "metadata": {},
   "source": [
    "o recorremos las filas"
   ]
  },
  {
   "cell_type": "code",
   "execution_count": 39,
   "metadata": {},
   "outputs": [
    {
     "data": {
      "text/plain": [
       "array([222, 232, 218, 151, 237])"
      ]
     },
     "execution_count": 39,
     "metadata": {},
     "output_type": "execute_result"
    }
   ],
   "source": [
    "a.sum(axis=0)"
   ]
  },
  {
   "cell_type": "markdown",
   "metadata": {},
   "source": [
    "y medimos el tiempo en realizar cada operación. Observa que realizamos los experimentos con una matriz cuadrada $(n,n)$ con lo que el número de operaciones en todos los casos es el mismo.\n",
    "\n",
    "**Con el almacenamiento recorriendo por columnas**"
   ]
  },
  {
   "cell_type": "code",
   "execution_count": 42,
   "metadata": {},
   "outputs": [
    {
     "name": "stdout",
     "output_type": "stream",
     "text": [
      "100 500 1000 1500 2000 2500 3000 3500 4000 4500 5000 "
     ]
    },
    {
     "data": {
      "text/plain": [
       "<matplotlib.legend.Legend at 0x7ff216c69e48>"
      ]
     },
     "execution_count": 42,
     "metadata": {},
     "output_type": "execute_result"
    },
    {
     "data": {
      "image/png": "[encoded data removed]",
      "text/plain": [
       "<Figure size 432x288 with 1 Axes>"
      ]
     },
     "metadata": {
      "needs_background": "light"
     },
     "output_type": "display_data"
    }
   ],
   "source": [
    "import matplotlib.pyplot as plt\n",
    "%matplotlib inline\n",
    "\n",
    "dtype = np.int32\n",
    "trows, tcols = [], []\n",
    "n_set = [100,500,1000,1500, 2000, 2500, 3000, 3500, 4000, 4500, 5000]\n",
    "for n in n_set:\n",
    "    print (n, end=\" \") \n",
    "    k = np.zeros ((n,n)).astype(dtype)\n",
    "\n",
    "    t = %timeit -o -q -r 3 -n 3 k.sum(axis=0)\n",
    "    trows.append(t.best)\n",
    "\n",
    "    t = %timeit -o -q -r 3 -n 3 k.sum(axis=1)\n",
    "    tcols.append(t.best)\n",
    "\n",
    "plt.plot(n_set, trows, label=\"rows\")\n",
    "plt.plot(n_set, tcols, label=\"cols\")\n",
    "plt.xlabel(\"size of array\")\n",
    "plt.ylabel(\"time\")\n",
    "plt.grid()\n",
    "plt.legend()"
   ]
  },
  {
   "cell_type": "markdown",
   "metadata": {},
   "source": [
    "**Con el almacenamiento recorriendo por filas**"
   ]
  },
  {
   "cell_type": "code",
   "execution_count": 43,
   "metadata": {},
   "outputs": [
    {
     "name": "stdout",
     "output_type": "stream",
     "text": [
      "100 500 1000 1500 2000 2500 3000 3500 4000 4500 5000 "
     ]
    },
    {
     "data": {
      "text/plain": [
       "<matplotlib.legend.Legend at 0x7ff216ba6d68>"
      ]
     },
     "execution_count": 43,
     "metadata": {},
     "output_type": "execute_result"
    },
    {
     "data": {
      "image/png": "[encoded data removed]",
      "text/plain": [
       "<Figure size 432x288 with 1 Axes>"
      ]
     },
     "metadata": {
      "needs_background": "light"
     },
     "output_type": "display_data"
    }
   ],
   "source": [
    "dtype = np.int32\n",
    "trows, tcols = [], []\n",
    "n_set = [100,500,1000,1500, 2000, 2500, 3000, 3500, 4000, 4500, 5000]\n",
    "for n in n_set:\n",
    "    print (n, end=\" \") \n",
    "    k = np.zeros ((n,n)).astype(dtype)\n",
    "    k = np.asfortranarray(k)\n",
    "\n",
    "    t = %timeit -o -q -r 3 -n 3 k.sum(axis=0)\n",
    "    trows.append(t.best)\n",
    "\n",
    "    t = %timeit -o -q -r 3 -n 3 k.sum(axis=1)\n",
    "    tcols.append(t.best)\n",
    "\n",
    "plt.plot(n_set, trows, label=\"rows\")\n",
    "plt.plot(n_set, tcols, label=\"cols\")\n",
    "plt.xlabel(\"size of array\")\n",
    "plt.ylabel(\"time\")\n",
    "plt.grid()\n",
    "plt.legend()"
   ]
  },
  {
   "cell_type": "markdown",
   "metadata": {},
   "source": [
    "### Especificación del orden de almacenamiento\n",
    "\n",
    "Cuando el almacenamiento en memoria de un array es con la con convención de C, se recorren primero las columnas (eje 1) y luego las filas (eje 0). **En este caso se describe con la tupla (1,0)**, indicando qué eje se recorre primero para almacenar en memoria."
   ]
  },
  {
   "cell_type": "code",
   "execution_count": 49,
   "metadata": {},
   "outputs": [
    {
     "name": "stdout",
     "output_type": "stream",
     "text": [
      "[[ 0  4]\n",
      " [ 8 12]]\n"
     ]
    }
   ],
   "source": [
    "a = np.random.randint(100, size=(2,2)).astype(np.int32)\n",
    "print(get_mempositions(a, relative=True))"
   ]
  },
  {
   "cell_type": "markdown",
   "metadata": {},
   "source": [
    "fíjate cómo al recorrer el eje 1 se llena una matriz"
   ]
  },
  {
   "cell_type": "code",
   "execution_count": 50,
   "metadata": {},
   "outputs": [
    {
     "name": "stdout",
     "output_type": "stream",
     "text": [
      "[[0 1 2 3 4]\n",
      " [0 0 0 0 0]\n",
      " [0 0 0 0 0]\n",
      " [0 0 0 0 0]]\n"
     ]
    }
   ],
   "source": [
    "a = np.zeros((4,5)).astype(int)\n",
    "for i in range(a.shape[1]):\n",
    "    a[0,i] = i\n",
    "print(a)"
   ]
  },
  {
   "cell_type": "code",
   "execution_count": null,
   "metadata": {},
   "outputs": [],
   "source": []
  },
  {
   "cell_type": "markdown",
   "metadata": {},
   "source": [
    "en cambio cuando se usa la convención de FORTRAN para almacenar en memoria, **el orden es al reves y se describe con la tupla (0,1)** "
   ]
  },
  {
   "cell_type": "code",
   "execution_count": 51,
   "metadata": {},
   "outputs": [
    {
     "name": "stdout",
     "output_type": "stream",
     "text": [
      "[[ 0  8]\n",
      " [ 4 12]]\n"
     ]
    }
   ],
   "source": [
    "a = np.random.randint(100, size=(2,2)).astype(np.int32)\n",
    "a = np.asfortranarray(a)\n",
    "print(get_mempositions(a, relative=True))"
   ]
  },
  {
   "cell_type": "markdown",
   "metadata": {},
   "source": [
    "fíjate en este caso cómo sucede al recorrer por el eje 0"
   ]
  },
  {
   "cell_type": "code",
   "execution_count": 52,
   "metadata": {},
   "outputs": [
    {
     "name": "stdout",
     "output_type": "stream",
     "text": [
      "[[0 0 0 0 0]\n",
      " [1 0 0 0 0]\n",
      " [2 0 0 0 0]\n",
      " [3 0 0 0 0]]\n"
     ]
    }
   ],
   "source": [
    "a = np.zeros((4,5)).astype(int)\n",
    "for i in range(a.shape[0]):\n",
    "    a[i,0] = i\n",
    "print(a)"
   ]
  },
  {
   "cell_type": "markdown",
   "metadata": {},
   "source": [
    "fíjate en el caso de $n=3$ con matrices de tres dimensiones. Con la convención de C, el orden de ejes es **(2,1,0)**"
   ]
  },
  {
   "cell_type": "code",
   "execution_count": 53,
   "metadata": {},
   "outputs": [
    {
     "name": "stdout",
     "output_type": "stream",
     "text": [
      "[[[ 0  4  8 12]\n",
      "  [16 20 24 28]\n",
      "  [32 36 40 44]]\n",
      "\n",
      " [[48 52 56 60]\n",
      "  [64 68 72 76]\n",
      "  [80 84 88 92]]]\n"
     ]
    }
   ],
   "source": [
    "a = np.random.randint(100, size=(2,3,4)).astype(np.int32)\n",
    "print(get_mempositions(a, relative=True))"
   ]
  },
  {
   "cell_type": "markdown",
   "metadata": {},
   "source": [
    "En este caso no es obvio identificar cada eje. Usa el siguiente código para visualizar cual es cada eje\n"
   ]
  },
  {
   "cell_type": "code",
   "execution_count": 54,
   "metadata": {},
   "outputs": [
    {
     "name": "stdout",
     "output_type": "stream",
     "text": [
      "eje 0\n",
      "[[[0 0 0 0]\n",
      "  [0 0 0 0]\n",
      "  [0 0 0 0]]\n",
      "\n",
      " [[1 0 0 0]\n",
      "  [0 0 0 0]\n",
      "  [0 0 0 0]]]\n",
      "\n",
      "eje 1\n",
      "[[[0 0 0 0]\n",
      "  [1 0 0 0]\n",
      "  [2 0 0 0]]\n",
      "\n",
      " [[0 0 0 0]\n",
      "  [0 0 0 0]\n",
      "  [0 0 0 0]]]\n",
      "\n",
      "eje 2\n",
      "[[[0 1 2 3]\n",
      "  [0 0 0 0]\n",
      "  [0 0 0 0]]\n",
      "\n",
      " [[0 0 0 0]\n",
      "  [0 0 0 0]\n",
      "  [0 0 0 0]]]\n"
     ]
    }
   ],
   "source": [
    "print(\"eje 0\")\n",
    "a = np.zeros((2,3,4)).astype(int)\n",
    "for i in range(a.shape[0]):\n",
    "    a[i,0,0] = i\n",
    "print(a)\n",
    "\n",
    "print(\"\\neje 1\")\n",
    "a = np.zeros((2,3,4)).astype(int)\n",
    "for i in range(a.shape[1]):\n",
    "    a[0,i,0] = i\n",
    "print(a)\n",
    "\n",
    "print(\"\\neje 2\")\n",
    "a = np.zeros((2,3,4)).astype(int)\n",
    "for i in range(a.shape[2]):\n",
    "    a[0,0,i] = i\n",
    "print(a)"
   ]
  },
  {
   "cell_type": "markdown",
   "metadata": {},
   "source": [
    "pero con la convención de FORTRAN, el orden es **(0,1,2)**"
   ]
  },
  {
   "cell_type": "code",
   "execution_count": 55,
   "metadata": {},
   "outputs": [
    {
     "name": "stdout",
     "output_type": "stream",
     "text": [
      "[[[ 0 24 48 72]\n",
      "  [ 8 32 56 80]\n",
      "  [16 40 64 88]]\n",
      "\n",
      " [[ 4 28 52 76]\n",
      "  [12 36 60 84]\n",
      "  [20 44 68 92]]]\n"
     ]
    }
   ],
   "source": [
    "a = np.random.randint(100, size=(2,3,4)).astype(np.int32)\n",
    "a = np.asfortranarray(a)\n",
    "print(get_mempositions(a, relative=True))"
   ]
  },
  {
   "cell_type": "markdown",
   "metadata": {},
   "source": [
    "juega igualmente para entender cual es cada eje como en el ejemplo anterior"
   ]
  },
  {
   "cell_type": "markdown",
   "metadata": {},
   "source": [
    "### Slicing en Python\n",
    "\n",
    "Fíjate cómo podemos indexar de manera genérica cualquier estructura de Python a través de objetos `slice` ([ejemplos](https://www.programiz.com/python-programming/methods/built-in/slice))"
   ]
  },
  {
   "cell_type": "code",
   "execution_count": 56,
   "metadata": {},
   "outputs": [
    {
     "data": {
      "text/plain": [
       "array([[0, 4, 9, 8, 1, 1, 4, 4, 6, 8],\n",
       "       [1, 8, 6, 2, 7, 0, 7, 8, 2, 5],\n",
       "       [5, 5, 6, 1, 7, 0, 5, 8, 4, 6]])"
      ]
     },
     "execution_count": 56,
     "metadata": {},
     "output_type": "execute_result"
    }
   ],
   "source": [
    "a = np.random.randint(10, size=(3,10))\n",
    "a"
   ]
  },
  {
   "cell_type": "markdown",
   "metadata": {},
   "source": [
    "estas dos operaciones son equivalentes"
   ]
  },
  {
   "cell_type": "code",
   "execution_count": 57,
   "metadata": {},
   "outputs": [
    {
     "name": "stdout",
     "output_type": "stream",
     "text": [
      "[[8 1 1 4 4]\n",
      " [2 7 0 7 8]\n",
      " [1 7 0 5 8]]\n",
      "[[8 1 1 4 4]\n",
      " [2 7 0 7 8]\n",
      " [1 7 0 5 8]]\n"
     ]
    }
   ],
   "source": [
    "print(a[:, 3:8])\n",
    "print(a[slice(None, None, None), slice(3,8,None)])"
   ]
  },
  {
   "cell_type": "markdown",
   "metadata": {},
   "source": [
    " y podemos construir especificaciones de `slices` programáticamente y usarlas como cualquier otra variable"
   ]
  },
  {
   "cell_type": "code",
   "execution_count": 59,
   "metadata": {},
   "outputs": [
    {
     "name": "stdout",
     "output_type": "stream",
     "text": [
      "[[9 8 1]\n",
      " [6 2 7]\n",
      " [6 1 7]]\n"
     ]
    }
   ],
   "source": [
    "slices = tuple([slice(2,5,None) if i==len(a.shape)-1 else slice(None, None, None)  for i in range(len(a.shape))])\n",
    "print(a[slices])"
   ]
  },
  {
   "cell_type": "markdown",
   "metadata": {},
   "source": [
    "fíjate que la expresión anterior funciona si tenemos más dimensiones"
   ]
  },
  {
   "cell_type": "code",
   "execution_count": 60,
   "metadata": {},
   "outputs": [
    {
     "name": "stdout",
     "output_type": "stream",
     "text": [
      "[[[2 3 2 5 6 4 8 7]\n",
      "  [7 7 8 3 0 3 7 5]\n",
      "  [4 4 0 5 0 5 5 6]]\n",
      "\n",
      " [[3 7 2 3 9 3 4 4]\n",
      "  [3 9 5 4 5 7 0 2]\n",
      "  [7 2 3 1 2 4 8 9]]]\n"
     ]
    }
   ],
   "source": [
    "a = np.random.randint(10, size=(2,3,8))\n",
    "print(a)"
   ]
  },
  {
   "cell_type": "code",
   "execution_count": 62,
   "metadata": {
    "scrolled": true
   },
   "outputs": [
    {
     "name": "stdout",
     "output_type": "stream",
     "text": [
      "[[[2 5 6]\n",
      "  [8 3 0]\n",
      "  [0 5 0]]\n",
      "\n",
      " [[2 3 9]\n",
      "  [5 4 5]\n",
      "  [3 1 2]]]\n"
     ]
    }
   ],
   "source": [
    "slices = tuple([slice(2,5,None) if i==len(a.shape)-1 else slice(None, None, None)  for i in range(len(a.shape))])\n",
    "print(a[slices])"
   ]
  },
  {
   "cell_type": "markdown",
   "metadata": {},
   "source": [
    "## Ejercicios propuestos:\n",
    "\n",
    "- Determine una fórmula de direccionamiento para representar un arreglo de tres dimensiones en memoria.\n",
    "- Determina una fórmula de direccionamiento para un arreglo de $n$ dimensiones en memoria."
   ]
  },
  {
   "cell_type": "code",
   "execution_count": null,
   "metadata": {},
   "outputs": [],
   "source": []
  }
 ],
 "metadata": {
  "kernelspec": {
   "display_name": "Python 3 (ipykernel)",
   "language": "python",
   "name": "python3"
  },
  "language_info": {
   "codemirror_mode": {
    "name": "ipython",
    "version": 3
   },
   "file_extension": ".py",
   "mimetype": "text/x-python",
   "name": "python",
   "nbconvert_exporter": "python",
   "pygments_lexer": "ipython3",
   "version": "3.10.6"
  }
 },
 "nbformat": 4,
 "nbformat_minor": 4
}
